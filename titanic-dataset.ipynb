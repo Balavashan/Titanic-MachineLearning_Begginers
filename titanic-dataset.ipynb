{
 "cells": [
  {
   "cell_type": "code",
   "execution_count": 1,
   "id": "7eff901c",
   "metadata": {
    "execution": {
     "iopub.execute_input": "2021-08-01T11:34:14.191198Z",
     "iopub.status.busy": "2021-08-01T11:34:14.190106Z",
     "iopub.status.idle": "2021-08-01T11:34:14.338256Z",
     "shell.execute_reply": "2021-08-01T11:34:14.338670Z",
     "shell.execute_reply.started": "2021-08-01T11:33:21.767839Z"
    },
    "papermill": {
     "duration": 0.180032,
     "end_time": "2021-08-01T11:34:14.338947",
     "exception": false,
     "start_time": "2021-08-01T11:34:14.158915",
     "status": "completed"
    },
    "tags": []
   },
   "outputs": [
    {
     "name": "stdout",
     "output_type": "stream",
     "text": [
      "../input/titanic/train.csv\n",
      "../input/titanic/test.csv\n",
      "../input/titanic/gender_submission.csv\n"
     ]
    },
    {
     "data": {
      "text/html": [
       "<div>\n",
       "<style scoped>\n",
       "    .dataframe tbody tr th:only-of-type {\n",
       "        vertical-align: middle;\n",
       "    }\n",
       "\n",
       "    .dataframe tbody tr th {\n",
       "        vertical-align: top;\n",
       "    }\n",
       "\n",
       "    .dataframe thead th {\n",
       "        text-align: right;\n",
       "    }\n",
       "</style>\n",
       "<table border=\"1\" class=\"dataframe\">\n",
       "  <thead>\n",
       "    <tr style=\"text-align: right;\">\n",
       "      <th></th>\n",
       "      <th>PassengerId</th>\n",
       "      <th>Survived</th>\n",
       "      <th>Pclass</th>\n",
       "      <th>Name</th>\n",
       "      <th>Sex</th>\n",
       "      <th>Age</th>\n",
       "      <th>SibSp</th>\n",
       "      <th>Parch</th>\n",
       "      <th>Ticket</th>\n",
       "      <th>Fare</th>\n",
       "      <th>Cabin</th>\n",
       "      <th>Embarked</th>\n",
       "    </tr>\n",
       "  </thead>\n",
       "  <tbody>\n",
       "    <tr>\n",
       "      <th>0</th>\n",
       "      <td>1</td>\n",
       "      <td>0</td>\n",
       "      <td>3</td>\n",
       "      <td>Braund, Mr. Owen Harris</td>\n",
       "      <td>male</td>\n",
       "      <td>22.0</td>\n",
       "      <td>1</td>\n",
       "      <td>0</td>\n",
       "      <td>A/5 21171</td>\n",
       "      <td>7.2500</td>\n",
       "      <td>NaN</td>\n",
       "      <td>S</td>\n",
       "    </tr>\n",
       "    <tr>\n",
       "      <th>1</th>\n",
       "      <td>2</td>\n",
       "      <td>1</td>\n",
       "      <td>1</td>\n",
       "      <td>Cumings, Mrs. John Bradley (Florence Briggs Th...</td>\n",
       "      <td>female</td>\n",
       "      <td>38.0</td>\n",
       "      <td>1</td>\n",
       "      <td>0</td>\n",
       "      <td>PC 17599</td>\n",
       "      <td>71.2833</td>\n",
       "      <td>C85</td>\n",
       "      <td>C</td>\n",
       "    </tr>\n",
       "    <tr>\n",
       "      <th>2</th>\n",
       "      <td>3</td>\n",
       "      <td>1</td>\n",
       "      <td>3</td>\n",
       "      <td>Heikkinen, Miss. Laina</td>\n",
       "      <td>female</td>\n",
       "      <td>26.0</td>\n",
       "      <td>0</td>\n",
       "      <td>0</td>\n",
       "      <td>STON/O2. 3101282</td>\n",
       "      <td>7.9250</td>\n",
       "      <td>NaN</td>\n",
       "      <td>S</td>\n",
       "    </tr>\n",
       "    <tr>\n",
       "      <th>3</th>\n",
       "      <td>4</td>\n",
       "      <td>1</td>\n",
       "      <td>1</td>\n",
       "      <td>Futrelle, Mrs. Jacques Heath (Lily May Peel)</td>\n",
       "      <td>female</td>\n",
       "      <td>35.0</td>\n",
       "      <td>1</td>\n",
       "      <td>0</td>\n",
       "      <td>113803</td>\n",
       "      <td>53.1000</td>\n",
       "      <td>C123</td>\n",
       "      <td>S</td>\n",
       "    </tr>\n",
       "    <tr>\n",
       "      <th>4</th>\n",
       "      <td>5</td>\n",
       "      <td>0</td>\n",
       "      <td>3</td>\n",
       "      <td>Allen, Mr. William Henry</td>\n",
       "      <td>male</td>\n",
       "      <td>35.0</td>\n",
       "      <td>0</td>\n",
       "      <td>0</td>\n",
       "      <td>373450</td>\n",
       "      <td>8.0500</td>\n",
       "      <td>NaN</td>\n",
       "      <td>S</td>\n",
       "    </tr>\n",
       "  </tbody>\n",
       "</table>\n",
       "</div>"
      ],
      "text/plain": [
       "   PassengerId  Survived  Pclass  \\\n",
       "0            1         0       3   \n",
       "1            2         1       1   \n",
       "2            3         1       3   \n",
       "3            4         1       1   \n",
       "4            5         0       3   \n",
       "\n",
       "                                                Name     Sex   Age  SibSp  \\\n",
       "0                            Braund, Mr. Owen Harris    male  22.0      1   \n",
       "1  Cumings, Mrs. John Bradley (Florence Briggs Th...  female  38.0      1   \n",
       "2                             Heikkinen, Miss. Laina  female  26.0      0   \n",
       "3       Futrelle, Mrs. Jacques Heath (Lily May Peel)  female  35.0      1   \n",
       "4                           Allen, Mr. William Henry    male  35.0      0   \n",
       "\n",
       "   Parch            Ticket     Fare Cabin Embarked  \n",
       "0      0         A/5 21171   7.2500   NaN        S  \n",
       "1      0          PC 17599  71.2833   C85        C  \n",
       "2      0  STON/O2. 3101282   7.9250   NaN        S  \n",
       "3      0            113803  53.1000  C123        S  \n",
       "4      0            373450   8.0500   NaN        S  "
      ]
     },
     "execution_count": 1,
     "metadata": {},
     "output_type": "execute_result"
    }
   ],
   "source": [
    "import os\n",
    "import numpy as np\n",
    "import pandas as pd\n",
    "for dirname, _, filenames in os.walk('../input/titanic'):\n",
    "    for filename in filenames:\n",
    "        print(os.path.join(dirname, filename))\n",
    "data=pd.read_csv(\"../input/titanic/train.csv\")\n",
    "data.head()"
   ]
  },
  {
   "cell_type": "code",
   "execution_count": 2,
   "id": "5549d027",
   "metadata": {
    "execution": {
     "iopub.execute_input": "2021-08-01T11:34:14.397110Z",
     "iopub.status.busy": "2021-08-01T11:34:14.396491Z",
     "iopub.status.idle": "2021-08-01T11:34:14.399222Z",
     "shell.execute_reply": "2021-08-01T11:34:14.399673Z",
     "shell.execute_reply.started": "2021-08-01T11:33:21.804325Z"
    },
    "papermill": {
     "duration": 0.034152,
     "end_time": "2021-08-01T11:34:14.399834",
     "exception": false,
     "start_time": "2021-08-01T11:34:14.365682",
     "status": "completed"
    },
    "tags": []
   },
   "outputs": [
    {
     "data": {
      "text/plain": [
       "(891, 12)"
      ]
     },
     "execution_count": 2,
     "metadata": {},
     "output_type": "execute_result"
    }
   ],
   "source": [
    "data.shape"
   ]
  },
  {
   "cell_type": "code",
   "execution_count": 3,
   "id": "e76262c2",
   "metadata": {
    "execution": {
     "iopub.execute_input": "2021-08-01T11:34:14.457209Z",
     "iopub.status.busy": "2021-08-01T11:34:14.456572Z",
     "iopub.status.idle": "2021-08-01T11:34:14.488479Z",
     "shell.execute_reply": "2021-08-01T11:34:14.488923Z",
     "shell.execute_reply.started": "2021-08-01T11:33:21.813194Z"
    },
    "papermill": {
     "duration": 0.062381,
     "end_time": "2021-08-01T11:34:14.489109",
     "exception": false,
     "start_time": "2021-08-01T11:34:14.426728",
     "status": "completed"
    },
    "tags": []
   },
   "outputs": [
    {
     "data": {
      "text/html": [
       "<div>\n",
       "<style scoped>\n",
       "    .dataframe tbody tr th:only-of-type {\n",
       "        vertical-align: middle;\n",
       "    }\n",
       "\n",
       "    .dataframe tbody tr th {\n",
       "        vertical-align: top;\n",
       "    }\n",
       "\n",
       "    .dataframe thead th {\n",
       "        text-align: right;\n",
       "    }\n",
       "</style>\n",
       "<table border=\"1\" class=\"dataframe\">\n",
       "  <thead>\n",
       "    <tr style=\"text-align: right;\">\n",
       "      <th></th>\n",
       "      <th>PassengerId</th>\n",
       "      <th>Survived</th>\n",
       "      <th>Pclass</th>\n",
       "      <th>Age</th>\n",
       "      <th>SibSp</th>\n",
       "      <th>Parch</th>\n",
       "      <th>Fare</th>\n",
       "    </tr>\n",
       "  </thead>\n",
       "  <tbody>\n",
       "    <tr>\n",
       "      <th>count</th>\n",
       "      <td>891.000000</td>\n",
       "      <td>891.000000</td>\n",
       "      <td>891.000000</td>\n",
       "      <td>714.000000</td>\n",
       "      <td>891.000000</td>\n",
       "      <td>891.000000</td>\n",
       "      <td>891.000000</td>\n",
       "    </tr>\n",
       "    <tr>\n",
       "      <th>mean</th>\n",
       "      <td>446.000000</td>\n",
       "      <td>0.383838</td>\n",
       "      <td>2.308642</td>\n",
       "      <td>29.699118</td>\n",
       "      <td>0.523008</td>\n",
       "      <td>0.381594</td>\n",
       "      <td>32.204208</td>\n",
       "    </tr>\n",
       "    <tr>\n",
       "      <th>std</th>\n",
       "      <td>257.353842</td>\n",
       "      <td>0.486592</td>\n",
       "      <td>0.836071</td>\n",
       "      <td>14.526497</td>\n",
       "      <td>1.102743</td>\n",
       "      <td>0.806057</td>\n",
       "      <td>49.693429</td>\n",
       "    </tr>\n",
       "    <tr>\n",
       "      <th>min</th>\n",
       "      <td>1.000000</td>\n",
       "      <td>0.000000</td>\n",
       "      <td>1.000000</td>\n",
       "      <td>0.420000</td>\n",
       "      <td>0.000000</td>\n",
       "      <td>0.000000</td>\n",
       "      <td>0.000000</td>\n",
       "    </tr>\n",
       "    <tr>\n",
       "      <th>25%</th>\n",
       "      <td>223.500000</td>\n",
       "      <td>0.000000</td>\n",
       "      <td>2.000000</td>\n",
       "      <td>20.125000</td>\n",
       "      <td>0.000000</td>\n",
       "      <td>0.000000</td>\n",
       "      <td>7.910400</td>\n",
       "    </tr>\n",
       "    <tr>\n",
       "      <th>50%</th>\n",
       "      <td>446.000000</td>\n",
       "      <td>0.000000</td>\n",
       "      <td>3.000000</td>\n",
       "      <td>28.000000</td>\n",
       "      <td>0.000000</td>\n",
       "      <td>0.000000</td>\n",
       "      <td>14.454200</td>\n",
       "    </tr>\n",
       "    <tr>\n",
       "      <th>75%</th>\n",
       "      <td>668.500000</td>\n",
       "      <td>1.000000</td>\n",
       "      <td>3.000000</td>\n",
       "      <td>38.000000</td>\n",
       "      <td>1.000000</td>\n",
       "      <td>0.000000</td>\n",
       "      <td>31.000000</td>\n",
       "    </tr>\n",
       "    <tr>\n",
       "      <th>max</th>\n",
       "      <td>891.000000</td>\n",
       "      <td>1.000000</td>\n",
       "      <td>3.000000</td>\n",
       "      <td>80.000000</td>\n",
       "      <td>8.000000</td>\n",
       "      <td>6.000000</td>\n",
       "      <td>512.329200</td>\n",
       "    </tr>\n",
       "  </tbody>\n",
       "</table>\n",
       "</div>"
      ],
      "text/plain": [
       "       PassengerId    Survived      Pclass         Age       SibSp  \\\n",
       "count   891.000000  891.000000  891.000000  714.000000  891.000000   \n",
       "mean    446.000000    0.383838    2.308642   29.699118    0.523008   \n",
       "std     257.353842    0.486592    0.836071   14.526497    1.102743   \n",
       "min       1.000000    0.000000    1.000000    0.420000    0.000000   \n",
       "25%     223.500000    0.000000    2.000000   20.125000    0.000000   \n",
       "50%     446.000000    0.000000    3.000000   28.000000    0.000000   \n",
       "75%     668.500000    1.000000    3.000000   38.000000    1.000000   \n",
       "max     891.000000    1.000000    3.000000   80.000000    8.000000   \n",
       "\n",
       "            Parch        Fare  \n",
       "count  891.000000  891.000000  \n",
       "mean     0.381594   32.204208  \n",
       "std      0.806057   49.693429  \n",
       "min      0.000000    0.000000  \n",
       "25%      0.000000    7.910400  \n",
       "50%      0.000000   14.454200  \n",
       "75%      0.000000   31.000000  \n",
       "max      6.000000  512.329200  "
      ]
     },
     "execution_count": 3,
     "metadata": {},
     "output_type": "execute_result"
    }
   ],
   "source": [
    "data.describe()"
   ]
  },
  {
   "cell_type": "code",
   "execution_count": 4,
   "id": "24966d43",
   "metadata": {
    "execution": {
     "iopub.execute_input": "2021-08-01T11:34:14.546937Z",
     "iopub.status.busy": "2021-08-01T11:34:14.546399Z",
     "iopub.status.idle": "2021-08-01T11:34:14.551126Z",
     "shell.execute_reply": "2021-08-01T11:34:14.551582Z",
     "shell.execute_reply.started": "2021-08-01T11:33:21.858584Z"
    },
    "papermill": {
     "duration": 0.035467,
     "end_time": "2021-08-01T11:34:14.551768",
     "exception": false,
     "start_time": "2021-08-01T11:34:14.516301",
     "status": "completed"
    },
    "tags": []
   },
   "outputs": [],
   "source": [
    "data=data.drop([\"Name\"],axis=1)"
   ]
  },
  {
   "cell_type": "code",
   "execution_count": 5,
   "id": "9fe3246a",
   "metadata": {
    "execution": {
     "iopub.execute_input": "2021-08-01T11:34:14.609703Z",
     "iopub.status.busy": "2021-08-01T11:34:14.609147Z",
     "iopub.status.idle": "2021-08-01T11:34:14.615944Z",
     "shell.execute_reply": "2021-08-01T11:34:14.616462Z",
     "shell.execute_reply.started": "2021-08-01T11:33:21.866321Z"
    },
    "papermill": {
     "duration": 0.037508,
     "end_time": "2021-08-01T11:34:14.616630",
     "exception": false,
     "start_time": "2021-08-01T11:34:14.579122",
     "status": "completed"
    },
    "tags": []
   },
   "outputs": [
    {
     "data": {
      "text/plain": [
       "PassengerId      0\n",
       "Survived         0\n",
       "Pclass           0\n",
       "Sex              0\n",
       "Age            177\n",
       "SibSp            0\n",
       "Parch            0\n",
       "Ticket           0\n",
       "Fare             0\n",
       "Cabin          687\n",
       "Embarked         2\n",
       "dtype: int64"
      ]
     },
     "execution_count": 5,
     "metadata": {},
     "output_type": "execute_result"
    }
   ],
   "source": [
    "data.isna().sum()"
   ]
  },
  {
   "cell_type": "markdown",
   "id": "2194c8aa",
   "metadata": {
    "papermill": {
     "duration": 0.026722,
     "end_time": "2021-08-01T11:34:14.670476",
     "exception": false,
     "start_time": "2021-08-01T11:34:14.643754",
     "status": "completed"
    },
    "tags": []
   },
   "source": [
    "**Since the column Cabin has Maximum number of Null values which is not possible to debug ,so we can drop this Column.**"
   ]
  },
  {
   "cell_type": "code",
   "execution_count": 6,
   "id": "2eaba64c",
   "metadata": {
    "execution": {
     "iopub.execute_input": "2021-08-01T11:34:14.736044Z",
     "iopub.status.busy": "2021-08-01T11:34:14.735101Z",
     "iopub.status.idle": "2021-08-01T11:34:14.740898Z",
     "shell.execute_reply": "2021-08-01T11:34:14.741575Z",
     "shell.execute_reply.started": "2021-08-01T11:33:21.887744Z"
    },
    "papermill": {
     "duration": 0.044274,
     "end_time": "2021-08-01T11:34:14.741830",
     "exception": false,
     "start_time": "2021-08-01T11:34:14.697556",
     "status": "completed"
    },
    "tags": []
   },
   "outputs": [],
   "source": [
    "data=data.drop({\"Cabin\",\"Ticket\"},axis=1)"
   ]
  },
  {
   "cell_type": "code",
   "execution_count": 7,
   "id": "61b082e3",
   "metadata": {
    "execution": {
     "iopub.execute_input": "2021-08-01T11:34:14.823054Z",
     "iopub.status.busy": "2021-08-01T11:34:14.818874Z",
     "iopub.status.idle": "2021-08-01T11:34:14.825492Z",
     "shell.execute_reply": "2021-08-01T11:34:14.826349Z",
     "shell.execute_reply.started": "2021-08-01T11:33:21.900782Z"
    },
    "papermill": {
     "duration": 0.047989,
     "end_time": "2021-08-01T11:34:14.826529",
     "exception": false,
     "start_time": "2021-08-01T11:34:14.778540",
     "status": "completed"
    },
    "tags": []
   },
   "outputs": [],
   "source": [
    "data.fillna(data.median(),inplace=True)"
   ]
  },
  {
   "cell_type": "markdown",
   "id": "fc1559cc",
   "metadata": {
    "papermill": {
     "duration": 0.02783,
     "end_time": "2021-08-01T11:34:14.890995",
     "exception": false,
     "start_time": "2021-08-01T11:34:14.863165",
     "status": "completed"
    },
    "tags": []
   },
   "source": [
    "# Visualizing the Datas"
   ]
  },
  {
   "cell_type": "code",
   "execution_count": 8,
   "id": "30326a8e",
   "metadata": {
    "execution": {
     "iopub.execute_input": "2021-08-01T11:34:14.952524Z",
     "iopub.status.busy": "2021-08-01T11:34:14.951767Z",
     "iopub.status.idle": "2021-08-01T11:34:15.834715Z",
     "shell.execute_reply": "2021-08-01T11:34:15.834222Z",
     "shell.execute_reply.started": "2021-08-01T11:33:21.922119Z"
    },
    "papermill": {
     "duration": 0.915834,
     "end_time": "2021-08-01T11:34:15.834856",
     "exception": false,
     "start_time": "2021-08-01T11:34:14.919022",
     "status": "completed"
    },
    "tags": []
   },
   "outputs": [],
   "source": [
    "import matplotlib.pyplot as plt\n",
    "import seaborn as sns"
   ]
  },
  {
   "cell_type": "code",
   "execution_count": 9,
   "id": "01f8475a",
   "metadata": {
    "execution": {
     "iopub.execute_input": "2021-08-01T11:34:15.899611Z",
     "iopub.status.busy": "2021-08-01T11:34:15.898946Z",
     "iopub.status.idle": "2021-08-01T11:34:16.127408Z",
     "shell.execute_reply": "2021-08-01T11:34:16.126851Z",
     "shell.execute_reply.started": "2021-08-01T11:33:21.937832Z"
    },
    "papermill": {
     "duration": 0.263769,
     "end_time": "2021-08-01T11:34:16.127547",
     "exception": false,
     "start_time": "2021-08-01T11:34:15.863778",
     "status": "completed"
    },
    "tags": []
   },
   "outputs": [
    {
     "data": {
      "text/plain": [
       "<AxesSubplot:xlabel='Sex', ylabel='Survived'>"
      ]
     },
     "execution_count": 9,
     "metadata": {},
     "output_type": "execute_result"
    },
    {
     "data": {
      "image/png": "[encoded data removed]",
      "text/plain": [
       "<Figure size 432x288 with 1 Axes>"
      ]
     },
     "metadata": {
      "needs_background": "light"
     },
     "output_type": "display_data"
    }
   ],
   "source": [
    "sns.barplot(x=\"Sex\",y=\"Survived\",data=data)"
   ]
  },
  {
   "cell_type": "code",
   "execution_count": 10,
   "id": "ff7cea1b",
   "metadata": {
    "execution": {
     "iopub.execute_input": "2021-08-01T11:34:16.197574Z",
     "iopub.status.busy": "2021-08-01T11:34:16.195008Z",
     "iopub.status.idle": "2021-08-01T11:34:16.451457Z",
     "shell.execute_reply": "2021-08-01T11:34:16.450057Z",
     "shell.execute_reply.started": "2021-08-01T11:33:22.176861Z"
    },
    "papermill": {
     "duration": 0.294807,
     "end_time": "2021-08-01T11:34:16.451650",
     "exception": false,
     "start_time": "2021-08-01T11:34:16.156843",
     "status": "completed"
    },
    "tags": []
   },
   "outputs": [
    {
     "data": {
      "text/plain": [
       "<AxesSubplot:xlabel='Pclass', ylabel='Survived'>"
      ]
     },
     "execution_count": 10,
     "metadata": {},
     "output_type": "execute_result"
    },
    {
     "data": {
      "image/png": "[encoded data removed]",
      "text/plain": [
       "<Figure size 432x288 with 1 Axes>"
      ]
     },
     "metadata": {
      "needs_background": "light"
     },
     "output_type": "display_data"
    }
   ],
   "source": [
    "sns.barplot(x='Pclass',y='Survived',data=data)"
   ]
  },
  {
   "cell_type": "code",
   "execution_count": 11,
   "id": "27b82a5b",
   "metadata": {
    "execution": {
     "iopub.execute_input": "2021-08-01T11:34:16.522871Z",
     "iopub.status.busy": "2021-08-01T11:34:16.520220Z",
     "iopub.status.idle": "2021-08-01T11:34:16.869453Z",
     "shell.execute_reply": "2021-08-01T11:34:16.868832Z",
     "shell.execute_reply.started": "2021-08-01T11:33:22.441718Z"
    },
    "papermill": {
     "duration": 0.386416,
     "end_time": "2021-08-01T11:34:16.869604",
     "exception": false,
     "start_time": "2021-08-01T11:34:16.483188",
     "status": "completed"
    },
    "tags": []
   },
   "outputs": [
    {
     "data": {
      "text/plain": [
       "<AxesSubplot:xlabel='SibSp', ylabel='Survived'>"
      ]
     },
     "execution_count": 11,
     "metadata": {},
     "output_type": "execute_result"
    },
    {
     "data": {
      "image/png": "[encoded data removed]",
      "text/plain": [
       "<Figure size 432x288 with 1 Axes>"
      ]
     },
     "metadata": {
      "needs_background": "light"
     },
     "output_type": "display_data"
    }
   ],
   "source": [
    "sns.barplot(x='SibSp',y='Survived',data=data)"
   ]
  },
  {
   "cell_type": "code",
   "execution_count": 12,
   "id": "8a75542f",
   "metadata": {
    "execution": {
     "iopub.execute_input": "2021-08-01T11:34:16.948296Z",
     "iopub.status.busy": "2021-08-01T11:34:16.944905Z",
     "iopub.status.idle": "2021-08-01T11:34:17.176395Z",
     "shell.execute_reply": "2021-08-01T11:34:17.175825Z",
     "shell.execute_reply.started": "2021-08-01T11:33:22.864687Z"
    },
    "papermill": {
     "duration": 0.273083,
     "end_time": "2021-08-01T11:34:17.176541",
     "exception": false,
     "start_time": "2021-08-01T11:34:16.903458",
     "status": "completed"
    },
    "tags": []
   },
   "outputs": [
    {
     "data": {
      "text/plain": [
       "<AxesSubplot:xlabel='Embarked', ylabel='Survived'>"
      ]
     },
     "execution_count": 12,
     "metadata": {},
     "output_type": "execute_result"
    },
    {
     "data": {
      "image/png": "[encoded data removed]",
      "text/plain": [
       "<Figure size 432x288 with 1 Axes>"
      ]
     },
     "metadata": {
      "needs_background": "light"
     },
     "output_type": "display_data"
    }
   ],
   "source": [
    "sns.barplot(x='Embarked',y='Survived',data=data)"
   ]
  },
  {
   "cell_type": "markdown",
   "id": "64a6bbc0",
   "metadata": {
    "papermill": {
     "duration": 0.034093,
     "end_time": "2021-08-01T11:34:17.246453",
     "exception": false,
     "start_time": "2021-08-01T11:34:17.212360",
     "status": "completed"
    },
    "tags": []
   },
   "source": [
    "**Filling Null values in Embarked Column and Convert it into Integers**"
   ]
  },
  {
   "cell_type": "code",
   "execution_count": 13,
   "id": "31ec26d5",
   "metadata": {
    "execution": {
     "iopub.execute_input": "2021-08-01T11:34:17.321896Z",
     "iopub.status.busy": "2021-08-01T11:34:17.320926Z",
     "iopub.status.idle": "2021-08-01T11:34:17.324388Z",
     "shell.execute_reply": "2021-08-01T11:34:17.323652Z",
     "shell.execute_reply.started": "2021-08-01T11:33:23.124143Z"
    },
    "papermill": {
     "duration": 0.041287,
     "end_time": "2021-08-01T11:34:17.324548",
     "exception": false,
     "start_time": "2021-08-01T11:34:17.283261",
     "status": "completed"
    },
    "tags": []
   },
   "outputs": [],
   "source": [
    "data[\"Embarked\"].fillna('S',inplace=True)"
   ]
  },
  {
   "cell_type": "code",
   "execution_count": 14,
   "id": "b9adf9a3",
   "metadata": {
    "execution": {
     "iopub.execute_input": "2021-08-01T11:34:17.403859Z",
     "iopub.status.busy": "2021-08-01T11:34:17.403195Z",
     "iopub.status.idle": "2021-08-01T11:34:17.407372Z",
     "shell.execute_reply": "2021-08-01T11:34:17.406622Z",
     "shell.execute_reply.started": "2021-08-01T11:33:23.133594Z"
    },
    "papermill": {
     "duration": 0.049204,
     "end_time": "2021-08-01T11:34:17.407549",
     "exception": false,
     "start_time": "2021-08-01T11:34:17.358345",
     "status": "completed"
    },
    "tags": []
   },
   "outputs": [],
   "source": [
    "data[\"Embarked\"].replace({'S':1,'Q':2,'C':3},inplace=True)"
   ]
  },
  {
   "cell_type": "code",
   "execution_count": 15,
   "id": "33867083",
   "metadata": {
    "execution": {
     "iopub.execute_input": "2021-08-01T11:34:17.496482Z",
     "iopub.status.busy": "2021-08-01T11:34:17.493335Z",
     "iopub.status.idle": "2021-08-01T11:34:17.500126Z",
     "shell.execute_reply": "2021-08-01T11:34:17.500643Z",
     "shell.execute_reply.started": "2021-08-01T11:33:23.148475Z"
    },
    "papermill": {
     "duration": 0.057548,
     "end_time": "2021-08-01T11:34:17.500878",
     "exception": false,
     "start_time": "2021-08-01T11:34:17.443330",
     "status": "completed"
    },
    "tags": []
   },
   "outputs": [
    {
     "name": "stdout",
     "output_type": "stream",
     "text": [
      "<class 'pandas.core.frame.DataFrame'>\n",
      "RangeIndex: 891 entries, 0 to 890\n",
      "Data columns (total 9 columns):\n",
      " #   Column       Non-Null Count  Dtype  \n",
      "---  ------       --------------  -----  \n",
      " 0   PassengerId  891 non-null    int64  \n",
      " 1   Survived     891 non-null    int64  \n",
      " 2   Pclass       891 non-null    int64  \n",
      " 3   Sex          891 non-null    object \n",
      " 4   Age          891 non-null    float64\n",
      " 5   SibSp        891 non-null    int64  \n",
      " 6   Parch        891 non-null    int64  \n",
      " 7   Fare         891 non-null    float64\n",
      " 8   Embarked     891 non-null    int64  \n",
      "dtypes: float64(2), int64(6), object(1)\n",
      "memory usage: 62.8+ KB\n"
     ]
    }
   ],
   "source": [
    "data.info()"
   ]
  },
  {
   "cell_type": "markdown",
   "id": "3fb1528e",
   "metadata": {
    "papermill": {
     "duration": 0.035843,
     "end_time": "2021-08-01T11:34:17.574476",
     "exception": false,
     "start_time": "2021-08-01T11:34:17.538633",
     "status": "completed"
    },
    "tags": []
   },
   "source": [
    "**Now we Converted every columns into a float and Integers.**"
   ]
  },
  {
   "cell_type": "markdown",
   "id": "daedeacd",
   "metadata": {
    "papermill": {
     "duration": 0.032345,
     "end_time": "2021-08-01T11:34:17.642273",
     "exception": false,
     "start_time": "2021-08-01T11:34:17.609928",
     "status": "completed"
    },
    "tags": []
   },
   "source": []
  },
  {
   "cell_type": "markdown",
   "id": "9c1ef980",
   "metadata": {
    "papermill": {
     "duration": 0.032407,
     "end_time": "2021-08-01T11:34:17.709658",
     "exception": false,
     "start_time": "2021-08-01T11:34:17.677251",
     "status": "completed"
    },
    "tags": []
   },
   "source": [
    "# Finding and Correcting Outliers"
   ]
  },
  {
   "cell_type": "code",
   "execution_count": 16,
   "id": "83958d35",
   "metadata": {
    "execution": {
     "iopub.execute_input": "2021-08-01T11:34:17.779700Z",
     "iopub.status.busy": "2021-08-01T11:34:17.779120Z",
     "iopub.status.idle": "2021-08-01T11:34:17.787438Z",
     "shell.execute_reply": "2021-08-01T11:34:17.788456Z",
     "shell.execute_reply.started": "2021-08-01T11:33:23.172728Z"
    },
    "papermill": {
     "duration": 0.045825,
     "end_time": "2021-08-01T11:34:17.788682",
     "exception": false,
     "start_time": "2021-08-01T11:34:17.742857",
     "status": "completed"
    },
    "tags": []
   },
   "outputs": [
    {
     "data": {
      "text/plain": [
       "PassengerId    0.000000\n",
       "Survived       0.478523\n",
       "Pclass        -0.630548\n",
       "Age            0.510245\n",
       "SibSp          3.695352\n",
       "Parch          2.749117\n",
       "Fare           4.787317\n",
       "Embarked       1.264823\n",
       "dtype: float64"
      ]
     },
     "execution_count": 16,
     "metadata": {},
     "output_type": "execute_result"
    }
   ],
   "source": [
    "data.skew()"
   ]
  },
  {
   "cell_type": "code",
   "execution_count": 17,
   "id": "899f8040",
   "metadata": {
    "execution": {
     "iopub.execute_input": "2021-08-01T11:34:17.866872Z",
     "iopub.status.busy": "2021-08-01T11:34:17.861067Z",
     "iopub.status.idle": "2021-08-01T11:34:17.901148Z",
     "shell.execute_reply": "2021-08-01T11:34:17.900561Z",
     "shell.execute_reply.started": "2021-08-01T11:33:23.191523Z"
    },
    "papermill": {
     "duration": 0.078567,
     "end_time": "2021-08-01T11:34:17.901293",
     "exception": false,
     "start_time": "2021-08-01T11:34:17.822726",
     "status": "completed"
    },
    "tags": []
   },
   "outputs": [],
   "source": [
    "data['Age']=data['Age'].clip(lower=data['Age'].quantile(0.05),upper=data['Age'].quantile(0.95))\n",
    "data['SibSp']=data['SibSp'].clip(lower=data['SibSp'].quantile(0.05),upper=data['SibSp'].quantile(0.95))\n",
    "data['Parch']=data['Parch'].clip(lower=data['Parch'].quantile(0.05),upper=data['Parch'].quantile(0.95))\n",
    "data['Fare']=data['Fare'].clip(lower=data['Fare'].quantile(0.05),upper=data['Fare'].quantile(0.95))"
   ]
  },
  {
   "cell_type": "code",
   "execution_count": 18,
   "id": "8622655e",
   "metadata": {
    "execution": {
     "iopub.execute_input": "2021-08-01T11:34:17.994489Z",
     "iopub.status.busy": "2021-08-01T11:34:17.993519Z",
     "iopub.status.idle": "2021-08-01T11:34:18.440992Z",
     "shell.execute_reply": "2021-08-01T11:34:18.440061Z",
     "shell.execute_reply.started": "2021-08-01T11:33:23.221378Z"
    },
    "papermill": {
     "duration": 0.504462,
     "end_time": "2021-08-01T11:34:18.441186",
     "exception": false,
     "start_time": "2021-08-01T11:34:17.936724",
     "status": "completed"
    },
    "tags": []
   },
   "outputs": [
    {
     "data": {
      "text/plain": [
       "<AxesSubplot:xlabel='Fare'>"
      ]
     },
     "execution_count": 18,
     "metadata": {},
     "output_type": "execute_result"
    },
    {
     "data": {
      "image/png": "[encoded data removed]",
      "text/plain": [
       "<Figure size 1440x1080 with 4 Axes>"
      ]
     },
     "metadata": {
      "needs_background": "light"
     },
     "output_type": "display_data"
    }
   ],
   "source": [
    "import warnings\n",
    "warnings.filterwarnings('ignore')\n",
    "plt.figure(figsize=(20,15))\n",
    "plt.subplot(4,4,1)\n",
    "sns.boxplot(data['Age'])\n",
    "plt.subplot(4,4,2)\n",
    "sns.boxplot(data['SibSp'])\n",
    "plt.subplot(4,4,3)\n",
    "sns.boxplot(data['Parch'])\n",
    "plt.subplot(4,4,4)\n",
    "sns.boxplot(data['Fare'])"
   ]
  },
  {
   "cell_type": "code",
   "execution_count": 19,
   "id": "556b52e7",
   "metadata": {
    "execution": {
     "iopub.execute_input": "2021-08-01T11:34:18.528327Z",
     "iopub.status.busy": "2021-08-01T11:34:18.527375Z",
     "iopub.status.idle": "2021-08-01T11:34:18.534219Z",
     "shell.execute_reply": "2021-08-01T11:34:18.533575Z",
     "shell.execute_reply.started": "2021-08-01T11:33:23.671459Z"
    },
    "papermill": {
     "duration": 0.053101,
     "end_time": "2021-08-01T11:34:18.534360",
     "exception": false,
     "start_time": "2021-08-01T11:34:18.481259",
     "status": "completed"
    },
    "tags": []
   },
   "outputs": [],
   "source": [
    "data['Fare']=data['Fare'].clip(lower=data['Fare'].quantile(0.15),upper=data['Fare'].quantile(0.85))"
   ]
  },
  {
   "cell_type": "code",
   "execution_count": 20,
   "id": "2075f3e7",
   "metadata": {
    "execution": {
     "iopub.execute_input": "2021-08-01T11:34:18.610487Z",
     "iopub.status.busy": "2021-08-01T11:34:18.609554Z",
     "iopub.status.idle": "2021-08-01T11:34:18.612926Z",
     "shell.execute_reply": "2021-08-01T11:34:18.613347Z",
     "shell.execute_reply.started": "2021-08-01T11:33:23.683774Z"
    },
    "papermill": {
     "duration": 0.044624,
     "end_time": "2021-08-01T11:34:18.613518",
     "exception": false,
     "start_time": "2021-08-01T11:34:18.568894",
     "status": "completed"
    },
    "tags": []
   },
   "outputs": [],
   "source": [
    "data['SibSp']=data['SibSp'].clip(lower=data['SibSp'].quantile(0.07),upper=data['SibSp'].quantile(0.93))"
   ]
  },
  {
   "cell_type": "code",
   "execution_count": 21,
   "id": "c062e78d",
   "metadata": {
    "execution": {
     "iopub.execute_input": "2021-08-01T11:34:18.823449Z",
     "iopub.status.busy": "2021-08-01T11:34:18.685678Z",
     "iopub.status.idle": "2021-08-01T11:34:19.010010Z",
     "shell.execute_reply": "2021-08-01T11:34:19.010434Z",
     "shell.execute_reply.started": "2021-08-01T11:33:23.700714Z"
    },
    "papermill": {
     "duration": 0.361822,
     "end_time": "2021-08-01T11:34:19.010617",
     "exception": false,
     "start_time": "2021-08-01T11:34:18.648795",
     "status": "completed"
    },
    "tags": []
   },
   "outputs": [
    {
     "data": {
      "text/plain": [
       "<AxesSubplot:xlabel='Fare'>"
      ]
     },
     "execution_count": 21,
     "metadata": {},
     "output_type": "execute_result"
    },
    {
     "data": {
      "image/png": "[encoded data removed]",
      "text/plain": [
       "<Figure size 1440x1080 with 2 Axes>"
      ]
     },
     "metadata": {
      "needs_background": "light"
     },
     "output_type": "display_data"
    }
   ],
   "source": [
    "plt.figure(figsize=(20,15))\n",
    "plt.subplot(4,4,1)\n",
    "sns.boxplot(data['SibSp'])\n",
    "plt.subplot(4,4,3)\n",
    "sns.boxplot(data['Fare'])"
   ]
  },
  {
   "cell_type": "code",
   "execution_count": 22,
   "id": "37fd302c",
   "metadata": {
    "execution": {
     "iopub.execute_input": "2021-08-01T11:34:19.083789Z",
     "iopub.status.busy": "2021-08-01T11:34:19.082838Z",
     "iopub.status.idle": "2021-08-01T11:34:19.092674Z",
     "shell.execute_reply": "2021-08-01T11:34:19.092093Z",
     "shell.execute_reply.started": "2021-08-01T11:33:23.941338Z"
    },
    "papermill": {
     "duration": 0.047576,
     "end_time": "2021-08-01T11:34:19.092805",
     "exception": false,
     "start_time": "2021-08-01T11:34:19.045229",
     "status": "completed"
    },
    "tags": []
   },
   "outputs": [
    {
     "data": {
      "text/plain": [
       "PassengerId    0.000000\n",
       "Survived       0.478523\n",
       "Pclass        -0.630548\n",
       "Age            0.280973\n",
       "SibSp          1.339934\n",
       "Parch          1.679480\n",
       "Fare           0.944933\n",
       "Embarked       1.264823\n",
       "dtype: float64"
      ]
     },
     "execution_count": 22,
     "metadata": {},
     "output_type": "execute_result"
    }
   ],
   "source": [
    "data.skew()"
   ]
  },
  {
   "cell_type": "markdown",
   "id": "3e170ba3",
   "metadata": {
    "papermill": {
     "duration": 0.032299,
     "end_time": "2021-08-01T11:34:19.158399",
     "exception": false,
     "start_time": "2021-08-01T11:34:19.126100",
     "status": "completed"
    },
    "tags": []
   },
   "source": [
    "**Checking Datas using correlation Heatmap**"
   ]
  },
  {
   "cell_type": "code",
   "execution_count": 23,
   "id": "bc307123",
   "metadata": {
    "execution": {
     "iopub.execute_input": "2021-08-01T11:34:19.233136Z",
     "iopub.status.busy": "2021-08-01T11:34:19.232224Z",
     "iopub.status.idle": "2021-08-01T11:34:19.732109Z",
     "shell.execute_reply": "2021-08-01T11:34:19.731441Z",
     "shell.execute_reply.started": "2021-08-01T11:33:23.958969Z"
    },
    "papermill": {
     "duration": 0.540601,
     "end_time": "2021-08-01T11:34:19.732254",
     "exception": false,
     "start_time": "2021-08-01T11:34:19.191653",
     "status": "completed"
    },
    "tags": []
   },
   "outputs": [
    {
     "data": {
      "image/png": "[encoded data removed]",
      "text/plain": [
       "<Figure size 720x720 with 2 Axes>"
      ]
     },
     "metadata": {
      "needs_background": "light"
     },
     "output_type": "display_data"
    }
   ],
   "source": [
    "corr=data.corr()\n",
    "plt.figure(figsize=(10,10))\n",
    "sns.heatmap(corr,annot=True,cmap=\"coolwarm\")\n",
    "plt.show()"
   ]
  },
  {
   "cell_type": "code",
   "execution_count": 24,
   "id": "14fe7b7d",
   "metadata": {
    "execution": {
     "iopub.execute_input": "2021-08-01T11:34:19.808406Z",
     "iopub.status.busy": "2021-08-01T11:34:19.807173Z",
     "iopub.status.idle": "2021-08-01T11:34:19.809870Z",
     "shell.execute_reply": "2021-08-01T11:34:19.810317Z",
     "shell.execute_reply.started": "2021-08-01T11:33:24.562288Z"
    },
    "papermill": {
     "duration": 0.043956,
     "end_time": "2021-08-01T11:34:19.810507",
     "exception": false,
     "start_time": "2021-08-01T11:34:19.766551",
     "status": "completed"
    },
    "tags": []
   },
   "outputs": [],
   "source": [
    "data['Sex'].replace({'male':1,'female':2},inplace=True)"
   ]
  },
  {
   "cell_type": "markdown",
   "id": "283d7e56",
   "metadata": {
    "papermill": {
     "duration": 0.034434,
     "end_time": "2021-08-01T11:34:19.880041",
     "exception": false,
     "start_time": "2021-08-01T11:34:19.845607",
     "status": "completed"
    },
    "tags": []
   },
   "source": [
    "# Training and Model Creation"
   ]
  },
  {
   "cell_type": "code",
   "execution_count": 25,
   "id": "925aac3f",
   "metadata": {
    "execution": {
     "iopub.execute_input": "2021-08-01T11:34:19.954316Z",
     "iopub.status.busy": "2021-08-01T11:34:19.953689Z",
     "iopub.status.idle": "2021-08-01T11:34:19.958615Z",
     "shell.execute_reply": "2021-08-01T11:34:19.959041Z",
     "shell.execute_reply.started": "2021-08-01T11:33:24.571326Z"
    },
    "papermill": {
     "duration": 0.042794,
     "end_time": "2021-08-01T11:34:19.959211",
     "exception": false,
     "start_time": "2021-08-01T11:34:19.916417",
     "status": "completed"
    },
    "tags": []
   },
   "outputs": [],
   "source": [
    "trainx=data.loc[:,data.columns!='Survived'].values[:,0:]\n",
    "trainy=data['Survived'].values"
   ]
  },
  {
   "cell_type": "code",
   "execution_count": 26,
   "id": "1528936f",
   "metadata": {
    "execution": {
     "iopub.execute_input": "2021-08-01T11:34:20.031853Z",
     "iopub.status.busy": "2021-08-01T11:34:20.031298Z",
     "iopub.status.idle": "2021-08-01T11:34:20.064057Z",
     "shell.execute_reply": "2021-08-01T11:34:20.063442Z",
     "shell.execute_reply.started": "2021-08-01T11:33:24.587461Z"
    },
    "papermill": {
     "duration": 0.069815,
     "end_time": "2021-08-01T11:34:20.064193",
     "exception": false,
     "start_time": "2021-08-01T11:34:19.994378",
     "status": "completed"
    },
    "tags": []
   },
   "outputs": [
    {
     "data": {
      "text/html": [
       "<div>\n",
       "<style scoped>\n",
       "    .dataframe tbody tr th:only-of-type {\n",
       "        vertical-align: middle;\n",
       "    }\n",
       "\n",
       "    .dataframe tbody tr th {\n",
       "        vertical-align: top;\n",
       "    }\n",
       "\n",
       "    .dataframe thead th {\n",
       "        text-align: right;\n",
       "    }\n",
       "</style>\n",
       "<table border=\"1\" class=\"dataframe\">\n",
       "  <thead>\n",
       "    <tr style=\"text-align: right;\">\n",
       "      <th></th>\n",
       "      <th>PassengerId</th>\n",
       "      <th>Pclass</th>\n",
       "      <th>Name</th>\n",
       "      <th>Sex</th>\n",
       "      <th>Age</th>\n",
       "      <th>SibSp</th>\n",
       "      <th>Parch</th>\n",
       "      <th>Ticket</th>\n",
       "      <th>Fare</th>\n",
       "      <th>Cabin</th>\n",
       "      <th>Embarked</th>\n",
       "    </tr>\n",
       "  </thead>\n",
       "  <tbody>\n",
       "    <tr>\n",
       "      <th>0</th>\n",
       "      <td>892</td>\n",
       "      <td>3</td>\n",
       "      <td>Kelly, Mr. James</td>\n",
       "      <td>male</td>\n",
       "      <td>34.5</td>\n",
       "      <td>0</td>\n",
       "      <td>0</td>\n",
       "      <td>330911</td>\n",
       "      <td>7.8292</td>\n",
       "      <td>NaN</td>\n",
       "      <td>Q</td>\n",
       "    </tr>\n",
       "    <tr>\n",
       "      <th>1</th>\n",
       "      <td>893</td>\n",
       "      <td>3</td>\n",
       "      <td>Wilkes, Mrs. James (Ellen Needs)</td>\n",
       "      <td>female</td>\n",
       "      <td>47.0</td>\n",
       "      <td>1</td>\n",
       "      <td>0</td>\n",
       "      <td>363272</td>\n",
       "      <td>7.0000</td>\n",
       "      <td>NaN</td>\n",
       "      <td>S</td>\n",
       "    </tr>\n",
       "    <tr>\n",
       "      <th>2</th>\n",
       "      <td>894</td>\n",
       "      <td>2</td>\n",
       "      <td>Myles, Mr. Thomas Francis</td>\n",
       "      <td>male</td>\n",
       "      <td>62.0</td>\n",
       "      <td>0</td>\n",
       "      <td>0</td>\n",
       "      <td>240276</td>\n",
       "      <td>9.6875</td>\n",
       "      <td>NaN</td>\n",
       "      <td>Q</td>\n",
       "    </tr>\n",
       "    <tr>\n",
       "      <th>3</th>\n",
       "      <td>895</td>\n",
       "      <td>3</td>\n",
       "      <td>Wirz, Mr. Albert</td>\n",
       "      <td>male</td>\n",
       "      <td>27.0</td>\n",
       "      <td>0</td>\n",
       "      <td>0</td>\n",
       "      <td>315154</td>\n",
       "      <td>8.6625</td>\n",
       "      <td>NaN</td>\n",
       "      <td>S</td>\n",
       "    </tr>\n",
       "    <tr>\n",
       "      <th>4</th>\n",
       "      <td>896</td>\n",
       "      <td>3</td>\n",
       "      <td>Hirvonen, Mrs. Alexander (Helga E Lindqvist)</td>\n",
       "      <td>female</td>\n",
       "      <td>22.0</td>\n",
       "      <td>1</td>\n",
       "      <td>1</td>\n",
       "      <td>3101298</td>\n",
       "      <td>12.2875</td>\n",
       "      <td>NaN</td>\n",
       "      <td>S</td>\n",
       "    </tr>\n",
       "  </tbody>\n",
       "</table>\n",
       "</div>"
      ],
      "text/plain": [
       "   PassengerId  Pclass                                          Name     Sex  \\\n",
       "0          892       3                              Kelly, Mr. James    male   \n",
       "1          893       3              Wilkes, Mrs. James (Ellen Needs)  female   \n",
       "2          894       2                     Myles, Mr. Thomas Francis    male   \n",
       "3          895       3                              Wirz, Mr. Albert    male   \n",
       "4          896       3  Hirvonen, Mrs. Alexander (Helga E Lindqvist)  female   \n",
       "\n",
       "    Age  SibSp  Parch   Ticket     Fare Cabin Embarked  \n",
       "0  34.5      0      0   330911   7.8292   NaN        Q  \n",
       "1  47.0      1      0   363272   7.0000   NaN        S  \n",
       "2  62.0      0      0   240276   9.6875   NaN        Q  \n",
       "3  27.0      0      0   315154   8.6625   NaN        S  \n",
       "4  22.0      1      1  3101298  12.2875   NaN        S  "
      ]
     },
     "execution_count": 26,
     "metadata": {},
     "output_type": "execute_result"
    }
   ],
   "source": [
    "test=pd.read_csv(\"../input/titanic/test.csv\")\n",
    "test.head()"
   ]
  },
  {
   "cell_type": "code",
   "execution_count": 27,
   "id": "a1936996",
   "metadata": {
    "execution": {
     "iopub.execute_input": "2021-08-01T11:34:20.139104Z",
     "iopub.status.busy": "2021-08-01T11:34:20.138487Z",
     "iopub.status.idle": "2021-08-01T11:34:20.143627Z",
     "shell.execute_reply": "2021-08-01T11:34:20.144054Z",
     "shell.execute_reply.started": "2021-08-01T11:33:24.618271Z"
    },
    "papermill": {
     "duration": 0.043609,
     "end_time": "2021-08-01T11:34:20.144229",
     "exception": false,
     "start_time": "2021-08-01T11:34:20.100620",
     "status": "completed"
    },
    "tags": []
   },
   "outputs": [],
   "source": [
    "test=test.drop({\"Name\",\"Cabin\",\"Ticket\"},axis=1)"
   ]
  },
  {
   "cell_type": "code",
   "execution_count": 28,
   "id": "8e15b752",
   "metadata": {
    "execution": {
     "iopub.execute_input": "2021-08-01T11:34:20.222328Z",
     "iopub.status.busy": "2021-08-01T11:34:20.221506Z",
     "iopub.status.idle": "2021-08-01T11:34:20.228085Z",
     "shell.execute_reply": "2021-08-01T11:34:20.227583Z",
     "shell.execute_reply.started": "2021-08-01T11:33:24.625305Z"
    },
    "papermill": {
     "duration": 0.046984,
     "end_time": "2021-08-01T11:34:20.228245",
     "exception": false,
     "start_time": "2021-08-01T11:34:20.181261",
     "status": "completed"
    },
    "tags": []
   },
   "outputs": [],
   "source": [
    "test.replace({\"S\":1,\"Q\":2,\"C\":3,\"male\":1,\"female\":2},inplace=True)"
   ]
  },
  {
   "cell_type": "code",
   "execution_count": 29,
   "id": "cc37d7a5",
   "metadata": {
    "execution": {
     "iopub.execute_input": "2021-08-01T11:34:20.306160Z",
     "iopub.status.busy": "2021-08-01T11:34:20.305476Z",
     "iopub.status.idle": "2021-08-01T11:34:20.312204Z",
     "shell.execute_reply": "2021-08-01T11:34:20.311454Z",
     "shell.execute_reply.started": "2021-08-01T11:33:24.642237Z"
    },
    "papermill": {
     "duration": 0.04921,
     "end_time": "2021-08-01T11:34:20.312351",
     "exception": false,
     "start_time": "2021-08-01T11:34:20.263141",
     "status": "completed"
    },
    "tags": []
   },
   "outputs": [],
   "source": [
    "test.fillna(data.median(),inplace=True)"
   ]
  },
  {
   "cell_type": "code",
   "execution_count": 30,
   "id": "781a77c6",
   "metadata": {
    "execution": {
     "iopub.execute_input": "2021-08-01T11:34:20.393293Z",
     "iopub.status.busy": "2021-08-01T11:34:20.392479Z",
     "iopub.status.idle": "2021-08-01T11:34:20.395881Z",
     "shell.execute_reply": "2021-08-01T11:34:20.396299Z",
     "shell.execute_reply.started": "2021-08-01T11:33:24.658707Z"
    },
    "papermill": {
     "duration": 0.048599,
     "end_time": "2021-08-01T11:34:20.396471",
     "exception": false,
     "start_time": "2021-08-01T11:34:20.347872",
     "status": "completed"
    },
    "tags": []
   },
   "outputs": [
    {
     "data": {
      "text/plain": [
       "PassengerId    0\n",
       "Pclass         0\n",
       "Sex            0\n",
       "Age            0\n",
       "SibSp          0\n",
       "Parch          0\n",
       "Fare           0\n",
       "Embarked       0\n",
       "dtype: int64"
      ]
     },
     "execution_count": 30,
     "metadata": {},
     "output_type": "execute_result"
    }
   ],
   "source": [
    "test.isna().sum()"
   ]
  },
  {
   "cell_type": "code",
   "execution_count": 31,
   "id": "dea184e0",
   "metadata": {
    "execution": {
     "iopub.execute_input": "2021-08-01T11:34:20.473087Z",
     "iopub.status.busy": "2021-08-01T11:34:20.472221Z",
     "iopub.status.idle": "2021-08-01T11:34:20.475368Z",
     "shell.execute_reply": "2021-08-01T11:34:20.475796Z",
     "shell.execute_reply.started": "2021-08-01T11:33:24.675497Z"
    },
    "papermill": {
     "duration": 0.043289,
     "end_time": "2021-08-01T11:34:20.475990",
     "exception": false,
     "start_time": "2021-08-01T11:34:20.432701",
     "status": "completed"
    },
    "tags": []
   },
   "outputs": [],
   "source": [
    "testx=test.values[:,0:]"
   ]
  },
  {
   "cell_type": "markdown",
   "id": "7ad3721d",
   "metadata": {
    "papermill": {
     "duration": 0.035173,
     "end_time": "2021-08-01T11:34:20.548089",
     "exception": false,
     "start_time": "2021-08-01T11:34:20.512916",
     "status": "completed"
    },
    "tags": []
   },
   "source": [
    "# Importing Naive-Bayes Algorithm"
   ]
  },
  {
   "cell_type": "code",
   "execution_count": 32,
   "id": "b6a51644",
   "metadata": {
    "execution": {
     "iopub.execute_input": "2021-08-01T11:34:20.626477Z",
     "iopub.status.busy": "2021-08-01T11:34:20.625581Z",
     "iopub.status.idle": "2021-08-01T11:34:20.800293Z",
     "shell.execute_reply": "2021-08-01T11:34:20.799378Z",
     "shell.execute_reply.started": "2021-08-01T11:33:24.689162Z"
    },
    "papermill": {
     "duration": 0.215313,
     "end_time": "2021-08-01T11:34:20.800457",
     "exception": false,
     "start_time": "2021-08-01T11:34:20.585144",
     "status": "completed"
    },
    "tags": []
   },
   "outputs": [],
   "source": [
    "from sklearn.naive_bayes import GaussianNB\n",
    "from sklearn.metrics import accuracy_score"
   ]
  },
  {
   "cell_type": "code",
   "execution_count": 33,
   "id": "7c9d798c",
   "metadata": {
    "execution": {
     "iopub.execute_input": "2021-08-01T11:34:20.884372Z",
     "iopub.status.busy": "2021-08-01T11:34:20.883738Z",
     "iopub.status.idle": "2021-08-01T11:34:20.886594Z",
     "shell.execute_reply": "2021-08-01T11:34:20.887021Z",
     "shell.execute_reply.started": "2021-08-01T11:33:24.702008Z"
    },
    "papermill": {
     "duration": 0.047058,
     "end_time": "2021-08-01T11:34:20.887209",
     "exception": false,
     "start_time": "2021-08-01T11:34:20.840151",
     "status": "completed"
    },
    "tags": []
   },
   "outputs": [],
   "source": [
    "model=GaussianNB()"
   ]
  },
  {
   "cell_type": "code",
   "execution_count": 34,
   "id": "e099dbc2",
   "metadata": {
    "execution": {
     "iopub.execute_input": "2021-08-01T11:34:20.970701Z",
     "iopub.status.busy": "2021-08-01T11:34:20.970077Z",
     "iopub.status.idle": "2021-08-01T11:34:20.976548Z",
     "shell.execute_reply": "2021-08-01T11:34:20.977051Z",
     "shell.execute_reply.started": "2021-08-01T11:33:24.715684Z"
    },
    "papermill": {
     "duration": 0.048791,
     "end_time": "2021-08-01T11:34:20.977237",
     "exception": false,
     "start_time": "2021-08-01T11:34:20.928446",
     "status": "completed"
    },
    "tags": []
   },
   "outputs": [
    {
     "name": "stdout",
     "output_type": "stream",
     "text": [
      "[0 0 0 0 1 0 1 0 1 0 0 0 1 0 1 1 0 0 0 1 1 0 1 1 1 0 1 0 0 0 0 0 1 1 1 0 0\n",
      " 0 0 0 0 0 0 1 1 0 1 0 1 1 1 0 1 1 0 0 0 0 0 1 0 0 0 1 1 1 1 0 1 1 1 0 0 1\n",
      " 1 1 0 1 0 1 0 1 0 0 0 0 1 0 1 0 1 0 1 0 1 0 1 0 0 0 1 0 0 0 1 0 0 0 0 0 0\n",
      " 1 1 1 1 0 0 1 1 1 1 0 1 0 0 1 0 1 0 0 0 1 1 0 0 0 0 0 0 1 0 1 1 0 0 0 1 0\n",
      " 0 0 1 0 0 1 0 0 1 0 0 1 1 0 1 0 0 1 1 0 1 0 0 0 0 0 1 1 1 1 1 1 0 1 1 0 1\n",
      " 0 1 0 0 0 0 0 0 0 0 0 1 0 0 0 1 0 1 1 0 1 1 0 1 0 0 0 1 1 0 0 1 1 1 0 1 0\n",
      " 1 0 1 1 0 1 0 0 1 1 0 0 1 0 1 0 1 1 1 1 1 0 0 1 1 0 1 1 1 0 1 0 0 0 0 0 1\n",
      " 0 0 0 1 1 0 0 0 0 0 0 1 0 1 1 0 1 0 0 0 0 0 0 1 1 1 0 0 1 0 0 0 1 0 1 0 0\n",
      " 1 0 0 0 0 0 0 0 1 1 1 0 1 0 0 0 0 0 1 1 1 0 0 0 0 0 0 0 1 0 1 1 0 0 1 1 0\n",
      " 1 0 0 0 0 0 0 0 0 1 1 0 0 0 1 0 1 1 0 1 1 1 0 1 0 0 0 0 1 1 0 1 1 0 1 1 0\n",
      " 0 1 0 0 1 1 0 0 1 0 0 0 0 0 0 1 0 0 0 0 1 1 0 0 0 1 0 1 0 0 1 0 1 0 1 0 0\n",
      " 1 0 1 0 1 0 0 1 0 0 0]\n",
      "(418,)\n"
     ]
    }
   ],
   "source": [
    "model.fit(trainx,trainy)\n",
    "s=model.predict(testx)\n",
    "print(s)\n",
    "print(s.shape)"
   ]
  },
  {
   "cell_type": "markdown",
   "id": "381400a7",
   "metadata": {
    "papermill": {
     "duration": 0.036619,
     "end_time": "2021-08-01T11:34:21.053552",
     "exception": false,
     "start_time": "2021-08-01T11:34:21.016933",
     "status": "completed"
    },
    "tags": []
   },
   "source": [
    "**submission.csv**"
   ]
  },
  {
   "cell_type": "code",
   "execution_count": 35,
   "id": "f2d8f2cb",
   "metadata": {
    "execution": {
     "iopub.execute_input": "2021-08-01T11:34:21.134808Z",
     "iopub.status.busy": "2021-08-01T11:34:21.134204Z",
     "iopub.status.idle": "2021-08-01T11:34:21.137183Z",
     "shell.execute_reply": "2021-08-01T11:34:21.136572Z",
     "shell.execute_reply.started": "2021-08-01T11:33:37.842067Z"
    },
    "papermill": {
     "duration": 0.045298,
     "end_time": "2021-08-01T11:34:21.137322",
     "exception": false,
     "start_time": "2021-08-01T11:34:21.092024",
     "status": "completed"
    },
    "tags": []
   },
   "outputs": [],
   "source": [
    "submission=pd.DataFrame({\"PassengerId\":test[\"PassengerId\"].values,\"Survived\":s})"
   ]
  },
  {
   "cell_type": "code",
   "execution_count": 36,
   "id": "145117d8",
   "metadata": {
    "execution": {
     "iopub.execute_input": "2021-08-01T11:34:21.218902Z",
     "iopub.status.busy": "2021-08-01T11:34:21.218041Z",
     "iopub.status.idle": "2021-08-01T11:34:21.222466Z",
     "shell.execute_reply": "2021-08-01T11:34:21.221869Z",
     "shell.execute_reply.started": "2021-08-01T11:33:24.905015Z"
    },
    "papermill": {
     "duration": 0.049539,
     "end_time": "2021-08-01T11:34:21.222615",
     "exception": false,
     "start_time": "2021-08-01T11:34:21.173076",
     "status": "completed"
    },
    "tags": []
   },
   "outputs": [
    {
     "data": {
      "text/html": [
       "<div>\n",
       "<style scoped>\n",
       "    .dataframe tbody tr th:only-of-type {\n",
       "        vertical-align: middle;\n",
       "    }\n",
       "\n",
       "    .dataframe tbody tr th {\n",
       "        vertical-align: top;\n",
       "    }\n",
       "\n",
       "    .dataframe thead th {\n",
       "        text-align: right;\n",
       "    }\n",
       "</style>\n",
       "<table border=\"1\" class=\"dataframe\">\n",
       "  <thead>\n",
       "    <tr style=\"text-align: right;\">\n",
       "      <th></th>\n",
       "      <th>PassengerId</th>\n",
       "      <th>Survived</th>\n",
       "    </tr>\n",
       "  </thead>\n",
       "  <tbody>\n",
       "    <tr>\n",
       "      <th>0</th>\n",
       "      <td>892</td>\n",
       "      <td>0</td>\n",
       "    </tr>\n",
       "    <tr>\n",
       "      <th>1</th>\n",
       "      <td>893</td>\n",
       "      <td>0</td>\n",
       "    </tr>\n",
       "    <tr>\n",
       "      <th>2</th>\n",
       "      <td>894</td>\n",
       "      <td>0</td>\n",
       "    </tr>\n",
       "    <tr>\n",
       "      <th>3</th>\n",
       "      <td>895</td>\n",
       "      <td>0</td>\n",
       "    </tr>\n",
       "    <tr>\n",
       "      <th>4</th>\n",
       "      <td>896</td>\n",
       "      <td>1</td>\n",
       "    </tr>\n",
       "    <tr>\n",
       "      <th>5</th>\n",
       "      <td>897</td>\n",
       "      <td>0</td>\n",
       "    </tr>\n",
       "    <tr>\n",
       "      <th>6</th>\n",
       "      <td>898</td>\n",
       "      <td>1</td>\n",
       "    </tr>\n",
       "    <tr>\n",
       "      <th>7</th>\n",
       "      <td>899</td>\n",
       "      <td>0</td>\n",
       "    </tr>\n",
       "    <tr>\n",
       "      <th>8</th>\n",
       "      <td>900</td>\n",
       "      <td>1</td>\n",
       "    </tr>\n",
       "    <tr>\n",
       "      <th>9</th>\n",
       "      <td>901</td>\n",
       "      <td>0</td>\n",
       "    </tr>\n",
       "  </tbody>\n",
       "</table>\n",
       "</div>"
      ],
      "text/plain": [
       "   PassengerId  Survived\n",
       "0          892         0\n",
       "1          893         0\n",
       "2          894         0\n",
       "3          895         0\n",
       "4          896         1\n",
       "5          897         0\n",
       "6          898         1\n",
       "7          899         0\n",
       "8          900         1\n",
       "9          901         0"
      ]
     },
     "execution_count": 36,
     "metadata": {},
     "output_type": "execute_result"
    }
   ],
   "source": [
    "submission.head(10)"
   ]
  },
  {
   "cell_type": "code",
   "execution_count": 37,
   "id": "3763ed0e",
   "metadata": {
    "execution": {
     "iopub.execute_input": "2021-08-01T11:34:21.300591Z",
     "iopub.status.busy": "2021-08-01T11:34:21.299929Z",
     "iopub.status.idle": "2021-08-01T11:34:21.303189Z",
     "shell.execute_reply": "2021-08-01T11:34:21.302701Z",
     "shell.execute_reply.started": "2021-08-01T11:33:24.926897Z"
    },
    "papermill": {
     "duration": 0.044597,
     "end_time": "2021-08-01T11:34:21.303323",
     "exception": false,
     "start_time": "2021-08-01T11:34:21.258726",
     "status": "completed"
    },
    "tags": []
   },
   "outputs": [
    {
     "data": {
      "text/plain": [
       "(418, 2)"
      ]
     },
     "execution_count": 37,
     "metadata": {},
     "output_type": "execute_result"
    }
   ],
   "source": [
    "submission.shape"
   ]
  },
  {
   "cell_type": "code",
   "execution_count": 38,
   "id": "e4107c77",
   "metadata": {
    "execution": {
     "iopub.execute_input": "2021-08-01T11:34:21.379821Z",
     "iopub.status.busy": "2021-08-01T11:34:21.379283Z",
     "iopub.status.idle": "2021-08-01T11:34:21.388925Z",
     "shell.execute_reply": "2021-08-01T11:34:21.387717Z",
     "shell.execute_reply.started": "2021-08-01T11:33:50.261720Z"
    },
    "papermill": {
     "duration": 0.049664,
     "end_time": "2021-08-01T11:34:21.389135",
     "exception": false,
     "start_time": "2021-08-01T11:34:21.339471",
     "status": "completed"
    },
    "tags": []
   },
   "outputs": [],
   "source": [
    "submission.to_csv('submission21.csv',index = False)"
   ]
  },
  {
   "cell_type": "markdown",
   "id": "5a89bbf2",
   "metadata": {
    "papermill": {
     "duration": 0.035995,
     "end_time": "2021-08-01T11:34:21.461299",
     "exception": false,
     "start_time": "2021-08-01T11:34:21.425304",
     "status": "completed"
    },
    "tags": []
   },
   "source": [
    "**The Model gives the Accuracy of 85.53 percentile**"
   ]
  }
 ],
 "metadata": {
  "kernelspec": {
   "display_name": "Python 3",
   "language": "python",
   "name": "python3"
  },
  "language_info": {
   "codemirror_mode": {
    "name": "ipython",
    "version": 3
   },
   "file_extension": ".py",
   "mimetype": "text/x-python",
   "name": "python",
   "nbconvert_exporter": "python",
   "pygments_lexer": "ipython3",
   "version": "3.7.10"
  },
  "papermill": {
   "default_parameters": {},
   "duration": 15.546284,
   "end_time": "2021-08-01T11:34:22.207134",
   "environment_variables": {},
   "exception": null,
   "input_path": "__notebook__.ipynb",
   "output_path": "__notebook__.ipynb",
   "parameters": {},
   "start_time": "2021-08-01T11:34:06.660850",
   "version": "2.3.3"
  }
 },
 "nbformat": 4,
 "nbformat_minor": 5
}
